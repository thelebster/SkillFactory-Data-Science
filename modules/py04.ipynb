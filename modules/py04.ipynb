{
 "cells": [
  {
   "cell_type": "markdown",
   "metadata": {},
   "source": [
    "## 4.4\n",
    "Постройте функцию get_median, которая принимает на вход список чисел и возвращает медиану, например, для этого списка.\n",
    "\n",
    "get_median([5, 2, 1, 3, 4]) должен вернуть 3\n",
    "\n",
    "get_median([3, 3, 7, 9]) должен вернуть 5\n",
    "\n",
    "Если имеется чётное количество случаев и два средних значения различаются, то медианой, по определению, может служить любое число между ними (например, в выборке {1, 3, 5, 7} медианой может служить любое число из интервала (3,5)). На практике в этом случае чаще всего используют среднее арифметическое двух средних значений (в примере выше это число (3+5)/2=4)."
   ]
  },
  {
   "cell_type": "code",
   "execution_count": 41,
   "metadata": {},
   "outputs": [
    {
     "name": "stdout",
     "output_type": "stream",
     "text": [
      "3\n",
      "5.0\n",
      "3\n",
      "5.0\n",
      "3\n"
     ]
    }
   ],
   "source": [
    "def get_median(numbers=[]):\n",
    "    def get_average(mid_numbers=[]):\n",
    "        return sum(mid_numbers) / 2\n",
    "                \n",
    "    numbers.sort()\n",
    "    pos = len(numbers) // 2\n",
    "    \n",
    "    # Если массив состоит из одного числа.\n",
    "    if len(numbers) == 1:\n",
    "        return sum(numbers)\n",
    "    \n",
    "    # Если массив состоит только из двух чисел.\n",
    "    if len(numbers) == 2:\n",
    "        average = get_average(numbers)\n",
    "        return average\n",
    "    \n",
    "    # Если кол-во чисел чётное.\n",
    "    if len(numbers) % 2 == 0:         \n",
    "        average = get_average([numbers[pos - 1], numbers[pos]])\n",
    "        return average\n",
    "    else:    \n",
    "        return numbers[pos]\n",
    "    \n",
    "\n",
    "median = get_median([5, 2, 1, 3, 4])\n",
    "print(median)\n",
    "\n",
    "median = get_median([3, 3, 7, 9])\n",
    "print(median)\n",
    "\n",
    "median = get_median([3, 3, 7])\n",
    "print(median)\n",
    "\n",
    "median = get_median([3, 7])\n",
    "print(median)\n",
    "\n",
    "median = get_median([3])\n",
    "print(median)"
   ]
  },
  {
   "cell_type": "markdown",
   "metadata": {},
   "source": [
    "## 4.5\n",
    "Перепишите код ниже, определив функцию avg_orders(user_db), которая возвращает среднее число заказов по данным в базе. Затем выведите на экран результат вызова этой функции для user_db"
   ]
  },
  {
   "cell_type": "code",
   "execution_count": 43,
   "metadata": {},
   "outputs": [
    {
     "name": "stdout",
     "output_type": "stream",
     "text": [
      "29.0\n"
     ]
    }
   ],
   "source": [
    "user_db = [{'orders': 12}, {'orders': 30}, {'orders': 45}]\n",
    "\n",
    "def avg_orders(user_db):\n",
    "    order_sum = sum([user['orders'] for user in user_db])\n",
    "    return order_sum/len(user_db)\n",
    "\n",
    "orders_per_user = avg_orders(user_db)\n",
    "print(orders_per_user)"
   ]
  },
  {
   "cell_type": "markdown",
   "metadata": {},
   "source": [
    "Определите функцию get_euro_rate, которая возвращает случайное число от 65 до 85. Перепишите to_euro из примера выше, чтобы вместо постоянного exchange_rate 70 она использовала get_euro_rate\n",
    "\n",
    "Для выполнения задания вам потребуется функция random() из модуля random, которая возвращает случайное число от 0 до 1"
   ]
  },
  {
   "cell_type": "code",
   "execution_count": 57,
   "metadata": {},
   "outputs": [
    {
     "name": "stdout",
     "output_type": "stream",
     "text": [
      "70\n"
     ]
    },
    {
     "data": {
      "text/plain": [
       "'€0.14'"
      ]
     },
     "execution_count": 57,
     "metadata": {},
     "output_type": "execute_result"
    }
   ],
   "source": [
    "from random import random\n",
    "from random import randrange\n",
    "\n",
    "def get_euro_rate():\n",
    "    return randrange(65, 85)\n",
    "\n",
    "# используйте get_euro_rate в следующей функции\n",
    "def to_euro(price):  \n",
    "    exchange_rate = get_euro_rate()\n",
    "    print(exchange_rate)\n",
    "    rounded = round(price/exchange_rate, 2)  \n",
    "    return '€' + str(rounded)\n",
    "\n",
    "to_euro(10)"
   ]
  },
  {
   "cell_type": "code",
   "execution_count": 58,
   "metadata": {},
   "outputs": [
    {
     "name": "stdout",
     "output_type": "stream",
     "text": [
      "10\n"
     ]
    }
   ],
   "source": [
    "all_the = sum\n",
    "magic = range\n",
    "print(all_the(magic(5)))"
   ]
  },
  {
   "cell_type": "code",
   "execution_count": 59,
   "metadata": {},
   "outputs": [
    {
     "data": {
      "text/plain": [
       "73"
      ]
     },
     "execution_count": 59,
     "metadata": {},
     "output_type": "execute_result"
    }
   ],
   "source": [
    "list(map(abs, [10,  -1, 42, -73]))[3]"
   ]
  },
  {
   "cell_type": "code",
   "execution_count": 62,
   "metadata": {},
   "outputs": [
    {
     "name": "stdout",
     "output_type": "stream",
     "text": [
      "[3, 3, 4, 2, 3]\n"
     ]
    }
   ],
   "source": [
    "word_sizes = list(map(len, [\"all\", \"you\", \"need\", \"is\", \"map\"]))\n",
    "print(word_sizes)"
   ]
  },
  {
   "cell_type": "code",
   "execution_count": 66,
   "metadata": {},
   "outputs": [],
   "source": [
    "func = lambda x: x\n",
    "func = lambda x, y, z : 7*x+2*y-3"
   ]
  },
  {
   "cell_type": "code",
   "execution_count": 75,
   "metadata": {},
   "outputs": [
    {
     "name": "stdout",
     "output_type": "stream",
     "text": [
      "[3, 4, 5]\n",
      "[10.44030650891055, 6.4031242374328485, 9.219544457292887]\n"
     ]
    }
   ],
   "source": [
    "values = [1, 2, 3]\n",
    "vectors = [(10, 3), (4, 5), (6, 7)]\n",
    "print(list(map(lambda x: x+2, [1, 2, 3])))\n",
    "print(list(map(lambda vec: (vec[0]**2 + vec[1]**2)**0.5, vectors)))"
   ]
  },
  {
   "cell_type": "markdown",
   "metadata": {},
   "source": [
    "## 4.10.2\n",
    "При анализе данных бывает полезно \"подвинуть\" числа так, чтобы среднее значение было нулевым: так удобнее анализировать их распределение.\n",
    "\n",
    "Напишите выражение c map, которое из каждого элемента values вычитает среднее значение mean. Результат положите в переменную result"
   ]
  },
  {
   "cell_type": "code",
   "execution_count": 78,
   "metadata": {},
   "outputs": [
    {
     "name": "stdout",
     "output_type": "stream",
     "text": [
      "[-14, -10, -3, -2, 5, 24]\n"
     ]
    }
   ],
   "source": [
    "values = [4, 8, 15, 16, 23, 42]\n",
    "mean = 18\n",
    "\n",
    "result = list(map(lambda x: x - mean, values))\n",
    "print(result)"
   ]
  },
  {
   "cell_type": "markdown",
   "metadata": {},
   "source": [
    "## 4.11.2\n",
    "Для заданных чисел values и среднего значения mean напишите такой filter, который оставляет только элементы больше среднего значения."
   ]
  },
  {
   "cell_type": "code",
   "execution_count": 79,
   "metadata": {},
   "outputs": [
    {
     "name": "stdout",
     "output_type": "stream",
     "text": [
      "[23, 42]\n"
     ]
    }
   ],
   "source": [
    "values = [4, 8, 15, 16, 23, 42]\n",
    "mean = 18\n",
    "\n",
    "result = list(filter(lambda x: x > mean, values))\n",
    "print(result)"
   ]
  },
  {
   "cell_type": "code",
   "execution_count": 80,
   "metadata": {},
   "outputs": [
    {
     "name": "stdout",
     "output_type": "stream",
     "text": [
      "0.5\n"
     ]
    }
   ],
   "source": [
    "std = 42 \n",
    "\n",
    "def normalize(value):\n",
    "    result = value/std\n",
    "    return result \n",
    "    \n",
    "print(normalize(21)) "
   ]
  },
  {
   "cell_type": "markdown",
   "metadata": {},
   "source": [
    "## 4.18\n",
    "Если вы обратили внимание, в предыдущих частях модуля у вас было несколько заданий с функцией normalize. Нормализацию часто применяют в машинном обучении, приводят данные к виду, когда среднее значение равно 0, а стандартное отклонение — 1.\n",
    "\n",
    "Определите функцию normalize с тремя аргументами:\n",
    "\n",
    "numbers — список чисел;\n",
    "mean — число, необязательный аргумент, по умолчанию 0;\n",
    "std — число, необязательный аргумент, по умолчанию 1.\n",
    "Функция должна для каждого числа из numbers вычитать mean и полученный результат делить на std. На выходе ожидается список из этих новых чисел.\n",
    "\n",
    "normalize([10, 20])\n",
    "\n",
    "=> [10, 20]\n",
    "\n",
    "normalize([10, 20], std=2)\n",
    "\n",
    "=> [5, 10]\n",
    "\n",
    "normalize([10, 20], mean=15)\n",
    "\n",
    "=> [-5, 5]"
   ]
  },
  {
   "cell_type": "code",
   "execution_count": 90,
   "metadata": {},
   "outputs": [
    {
     "name": "stdout",
     "output_type": "stream",
     "text": [
      "[10, 20]\n",
      "[5, 10]\n",
      "[-5, 5]\n"
     ]
    }
   ],
   "source": [
    "def normalize(numbers, mean=0, std=1):\n",
    "    return list(map(lambda x: int((x - mean) / std), numbers))\n",
    "\n",
    "print(normalize([10, 20]))\n",
    "print(normalize([10, 20], std=2))\n",
    "print(normalize([10, 20], mean=15))"
   ]
  },
  {
   "cell_type": "markdown",
   "metadata": {},
   "source": [
    "## 4.19\n",
    "Определите функцию sum_args, которая суммирует все свои аргументы. Например, sum_args(10, 15, -4) должна возвращать 21"
   ]
  },
  {
   "cell_type": "code",
   "execution_count": 91,
   "metadata": {},
   "outputs": [
    {
     "name": "stdout",
     "output_type": "stream",
     "text": [
      "21\n"
     ]
    }
   ],
   "source": [
    "def sum_args(*args):\n",
    "    return sum(args)\n",
    "\n",
    "print(sum_args(10, 15, -4))"
   ]
  },
  {
   "cell_type": "code",
   "execution_count": 92,
   "metadata": {},
   "outputs": [
    {
     "name": "stdout",
     "output_type": "stream",
     "text": [
      "verbose mode\n"
     ]
    }
   ],
   "source": [
    "def show_keys(**kwargs):\n",
    "    print(' '.join(kwargs.keys()))\n",
    "\n",
    "show_keys(verbose=True, mode='constant')"
   ]
  },
  {
   "cell_type": "markdown",
   "metadata": {},
   "source": [
    "## 4.23\n",
    "Определите функцию count_letters(sentence, average), которая считает количество букв в строке без учёта пробелов. У функции должен быть необязательный булевый аргумент average, который по умолчанию равен False. Если он равен True, то функция должна возвращать количество букв в среднем на слово.\n",
    "```\n",
    "count_letters(\"Beep boop\") # => 8\n",
    "count_letters(\"Beep boop\", average=True) # => 4\n",
    "count_letters(\"I will build my own theme park\") # => 24\n",
    "count_letters(\"I will build my own theme park\", average=True) # => 3.429\n",
    "```\n",
    "Словом считается любая последовательность символов, отделённая пробелами или границами предложения. Cреднюю длину слова можно не округлять"
   ]
  },
  {
   "cell_type": "code",
   "execution_count": 1,
   "metadata": {},
   "outputs": [
    {
     "name": "stdout",
     "output_type": "stream",
     "text": [
      "8\n",
      "4.0\n",
      "24\n",
      "3.4285714285714284\n"
     ]
    }
   ],
   "source": [
    "def count_letters(sentence, average=False):\n",
    "    words = sentence.split()  # Break sentence into words.\n",
    "    letters_count = sum(map(len, words))  # Count letters for each word.\n",
    "    if average:        \n",
    "        words_count = len(words)\n",
    "        return letters_count / words_count\n",
    "    \n",
    "    return letters_count\n",
    "\n",
    "print(count_letters(\"Beep boop\")) # => 8\n",
    "print(count_letters(\"Beep boop\", average=True)) # => 4\n",
    "print(count_letters(\"I will build my own theme park\")) # => 24\n",
    "print(count_letters(\"I will build my own theme park\", average=True)) # => 3.429"
   ]
  },
  {
   "cell_type": "code",
   "execution_count": 104,
   "metadata": {},
   "outputs": [
    {
     "data": {
      "text/plain": [
       "'a'"
      ]
     },
     "execution_count": 104,
     "metadata": {},
     "output_type": "execute_result"
    }
   ],
   "source": [
    "words = [\"sofa\", \"suitcase\", \"valise\", \"picture\", \"basket\", \"carton\", \"doggie\"]\n",
    "list(map(lambda w: sorted(w)[0], words))[5]"
   ]
  },
  {
   "cell_type": "markdown",
   "metadata": {},
   "source": [
    "Напишите функцию always(n), которая возвращает функцию, которая в свою очередь возвращает n. Например,\n",
    "```\n",
    "five = always(5)\n",
    "five() # должно вернуть 5\n",
    "```"
   ]
  },
  {
   "cell_type": "code",
   "execution_count": 132,
   "metadata": {},
   "outputs": [
    {
     "data": {
      "text/plain": [
       "5"
      ]
     },
     "execution_count": 132,
     "metadata": {},
     "output_type": "execute_result"
    }
   ],
   "source": [
    "def always(n=5):\n",
    "    def func():\n",
    "        return n\n",
    "    return func\n",
    "    \n",
    "five = always(5)\n",
    "five() # должно вернуть 5"
   ]
  },
  {
   "cell_type": "code",
   "execution_count": null,
   "metadata": {},
   "outputs": [],
   "source": []
  }
 ],
 "metadata": {
  "kernelspec": {
   "display_name": "Python 3",
   "language": "python",
   "name": "python3"
  },
  "language_info": {
   "codemirror_mode": {
    "name": "ipython",
    "version": 3
   },
   "file_extension": ".py",
   "mimetype": "text/x-python",
   "name": "python",
   "nbconvert_exporter": "python",
   "pygments_lexer": "ipython3",
   "version": "3.7.6"
  }
 },
 "nbformat": 4,
 "nbformat_minor": 4
}
